{
 "cells": [
  {
   "cell_type": "code",
   "execution_count": 7,
   "metadata": {
    "collapsed": true
   },
   "outputs": [],
   "source": [
    "import numpy as np\n",
    "from IPython.display import HTML, display, clear_output, update_display\n",
    "import ipywidgets as widgets\n",
    "from itertools import product\n",
    "from heapq import heappop, heappush\n",
    "from collections import deque\n",
    "import json\n",
    "from copy import deepcopy, copy\n",
    "from functools import lru_cache\n",
    "import itertools as it\n",
    "import time\n",
    "import os\n",
    "\n",
    "class Board():\n",
    "    def __init__(self, INIT_STATE):\n",
    "        self.squares = INIT_STATE\n",
    "        self.start_board = copy(INIT_STATE)\n",
    "        self.rows = INIT_STATE.shape[0]\n",
    "        self.cols = INIT_STATE.shape[1]\n",
    "        r, c = np.where(INIT_STATE==\"A\")\n",
    "        self.own_pos = (r[0],c[0])\n",
    "        self.state = self.own_pos\n",
    "        self.start_board[self.own_pos] = \"f\"\n",
    "        rg, cg = np.where(INIT_STATE==\"B\")\n",
    "        self.goal_pos = (rg[0],cg[0])\n",
    "        self.cost = {\"w\":100, \"m\":50, \"f\":10, \"g\":5, \"r\":1}\n",
    "        self.color = {\"A\":\"red\", \"B\":\"green\", \".\":\"white\", \"#\":\"darkgrey\", \"w\":\"blue\", \"m\":\"grey\", \"f\":\"darkgreen\", \"g\":\"lightgreen\", \"r\":\"brown\",\"W\":\"blue\", \"M\":\"grey\", \"F\":\"darkgreen\", \"G\":\"lightgreen\", \"R\":\"brown\", \"1\":\"blue\", \"2\":\"grey\", \"3\":\"darkgreen\", \"4\":\"lightgreen\", \"5\":\"brown\", \"6\":\"blue\", \"7\":\"grey\", \"8\":\"darkgreen\", \"9\":\"lightgreen\", \"0\":\"brown\"}\n",
    "        self.textmap = {\"Ax\":\"A\", \"Bx\":\"B\", \"B*\":\"B\", \"B+\":\"B\", \"wx\":\"W\", \"mx\":\"M\",\"fx\":\"F\",\"gx\":\"G\",\"rx\":\"R\", \"w*\":\"1\", \"m*\":\"2\", \"f*\":\"3\", \"g*\":\"4\", \"r*\":\"5\",\"w+\":\"6\", \"m+\":\"7\", \"f+\":\"8\", \"g+\":\"9\", \"r+\":\"0\"}\n",
    "        self.text = {\".\":\"\", \"#\":\"\", \"w\":\"\", \"m\":\"\", \"f\":\"\", \"g\":\"\", \"r\":\"\",\"W\":\"x\",\"M\":\"x\", \"F\":\"x\", \"G\":\"x\", \"R\": \"x\",\"1\":\"*\", \"2\":\"*\",\"3\":\"*\", \"4\":\"*\", \"5\":\"*\",\"6\":\"+\", \"7\":\"+\",\"8\":\"+\", \"9\":\"+\", \"0\":\"+\" }\n",
    "        display(HTML(self.board_html()), display_id=str(id(self)))\n",
    "        \n",
    "    def move(self, move):\n",
    "        old_x, old_y = self.own_pos  \n",
    "        if move==0: #right\n",
    "            return (old_x+1,old_y)\n",
    "        elif move==1: #up\n",
    "            return (old_x,old_y-1)\n",
    "        elif move==2: #left\n",
    "            return (old_x-1,old_y)\n",
    "        elif move==3: #down\n",
    "            return (old_x,old_y+1)\n",
    "    \n",
    "    def set_state(self, state, init=False):\n",
    "        self.squares = copy(self.start_board)\n",
    "        self.squares[state] = \"A\"\n",
    "        self.own_pos = state\n",
    "        self.state = state\n",
    "        if init:\n",
    "            self.squares[self.goal_pos] = \"B\"\n",
    "        self.display_state()\n",
    "    \n",
    "    def add_marker(self, poslist, mark=\"x\"):\n",
    "        self.squares = copy(self.start_board)\n",
    "        for pos in poslist:\n",
    "            #print(self.squares[pos],mark)\n",
    "            self.squares[pos] = self.textmap[self.squares[pos]+mark]\n",
    "        self.display_state()\n",
    "    \n",
    "    def get_next_states(self, return_moves=False):\n",
    "        # Function to get next possible moves OR next possible states, depending on the return_moves-flag. \n",
    "        moves = []\n",
    "        for m in range(4):\n",
    "            next_x, next_y = self.move(m)\n",
    "            #print(n)\n",
    "            if next_x in range(self.rows) and next_y in range(self.cols):\n",
    "                next_val = self.squares[self.move(m)]\n",
    "                if next_val != \"#\":\n",
    "                    moves.append(m)\n",
    "        next_states = [self.move(m) for m in moves]\n",
    "        return next_states\n",
    "    \n",
    "    def display_state(self):\n",
    "        update_display(HTML(self.board_html()), display_id=str(id(self)))\n",
    "    \n",
    "    def square_html(self, sq) -> str:\n",
    "        # Represent each square in HTML\n",
    "        size = 150\n",
    "        if sq == \"A\": # If A, display A\n",
    "            text = \"A\"\n",
    "        elif sq == \"B\": # If B, display B\n",
    "            text = \"B\"\n",
    "        else:\n",
    "            text = self.text[sq] # No text\n",
    "        color = self.color[sq] # Look up the carcolor-dict to retrieve the color.\n",
    "        style = \"background-color:{}; font-size:{}%; width:30px; height:30px; text-align:center; padding:0px; border: 2px solid black;\" # Style for the square\n",
    "        return ('<td style=\"' + style + '\">{}').format(color, size, text)\n",
    "    \n",
    "    def board_html(self) -> str:\n",
    "        # Represent the whole board in HTML \n",
    "        squares = [self.square_html(sq) for sq in self.squares.flatten()] # Flatten the matrix, and get HTML-representation for each square.\n",
    "        row = ('<tr>' + '{}' * self.cols) # Create HTML-tag for each column\n",
    "        return ('<table>' +  row * self.rows + '</table>').format(*squares) # Create the HTML-table, with the square-representations inserted. \n",
    "\n",
    "    \n",
    "    def _repr_html_(self) -> str:\n",
    "        #Own representation in HTML.\n",
    "        return self.board_html()\n",
    "    \n",
    "    def h_func(self, s):\n",
    "        goal_x, goal_y = self.goal_pos\n",
    "        x_dist = abs(s[0]-goal_x)\n",
    "        y_dist = abs(s[1]-goal_y)\n",
    "        return x_dist+y_dist # manhattan distance\n",
    "    \n",
    "    def get_cost(self, pos):\n",
    "        in_next = self.squares[pos]\n",
    "        if in_next in self.cost.keys():\n",
    "            return self.cost[in_next]\n",
    "        else:\n",
    "            #print(pos)\n",
    "            #print(\"Not in costdict\")\n",
    "            return 0\n",
    "\n",
    "def a_star_search(b, mode=\"astar\", display_mode=False):\n",
    "    # b is the board object. Must implement h_func(state)-method, get_next_states(), set_state() and state-attribute\n",
    "    if mode in [\"dijkstra\",\"astar\"]:\n",
    "        openset = [(b.h_func(b.state), b.state)]\n",
    "    else:\n",
    "        openset = deque([b.state])\n",
    "    closedset = {b.state:0}\n",
    "    parent = {b.state: ''}\n",
    "    expanded = 0\n",
    "    while len(openset) > 0:\n",
    "        if mode in [\"dijkstra\", \"astar\"]:\n",
    "            f, s = heappop(openset)\n",
    "        else:\n",
    "            s = openset.popleft()\n",
    "        if display_mode:\n",
    "            print(\"Expanding \" + s)\n",
    "            print(\"Cost of s: \" + str(f))\n",
    "        b.set_state(s)\n",
    "        if b.h_func(s) == 0: # If cost from s to goal is 0.\n",
    "            path_to_s = [s]\n",
    "            b.display_state()\n",
    "            while s != '':\n",
    "                if display_mode:\n",
    "                    print(s)\n",
    "                path_to_s.append(parent[s])\n",
    "                s = parent[s]\n",
    "            print(\"Successfully found solution. Path to solution consists of \"+str(len(path_to_s[1:])-1)+\" nodes.\")\n",
    "            print(\"Expanded a total of \"+str(expanded)+\" nodes.\")\n",
    "            return list(reversed(path_to_s))[1:], openset, closedset\n",
    "        succ = b.get_next_states()\n",
    "        #print(\"Successors: \" + str(len(succ)))\n",
    "        expanded += 1\n",
    "        for newnode in succ:                \n",
    "            if display_mode:\n",
    "                print(\"Child \"+newnode+\" has cost of \"+ str(b.h_func(newnode)))\n",
    "            curr_cost = closedset[s] + b.get_cost(newnode)\n",
    "            if (newnode in closedset and curr_cost < closedset[newnode]) or (newnode not in closedset.keys()): \n",
    "                # If new node is not in closed set or has lower cost than previous cost for same node.\n",
    "                # Then we update the cost, and push it to the open set for re-expansion to find new cost of children\n",
    "                closedset[newnode] = curr_cost\n",
    "                parent[newnode] = s\n",
    "                if mode in [\"dijkstra\", \"bfs\"]:\n",
    "                    g = 0\n",
    "                elif mode==\"astar\":\n",
    "                    g = b.h_func(newnode)\n",
    "                if mode in [\"dijkstra\", \"astar\"]:\n",
    "                    heappush(openset, (curr_cost+g, newnode))\n",
    "                else:\n",
    "                    openset.appendleft(newnode)\n",
    "                #if display_mode:\n",
    "                #print(\"Child \" + newnode + \" with cost\"+ str((curr_cost+b.h_func(new_n.state)))+ \"  is either not seen before or has lower cost than previous \")\n",
    "                #    print(\"Pushed \"+ newnode + \" to openset\")\n",
    "                #    print(\"New openset: \"+ str(openset))\n",
    "            else:\n",
    "                if display_mode:\n",
    "                    print(\"Child \" + newnode + \" has higher cost than previously seen\")\n",
    "    return False\n",
    "\n",
    "def get_board1(boardname):\n",
    "    file = open(\"boards/\"+boardname+\".txt\", \"r\")\n",
    "    lines = file.read().split(\"\\n\")\n",
    "    arr = []\n",
    "    for l in [line for line in lines if line !=\"\"]:\n",
    "        values = np.array(list(l)) \n",
    "        arr.append(values)\n",
    "    file.close()\n",
    "    return np.vstack(arr)"
   ]
  },
  {
   "cell_type": "code",
   "execution_count": 8,
   "metadata": {
    "collapsed": true
   },
   "outputs": [],
   "source": [
    "init_state = get_board1(\"board-2-3\")"
   ]
  },
  {
   "cell_type": "code",
   "execution_count": 9,
   "metadata": {
    "collapsed": false
   },
   "outputs": [
    {
     "data": {
      "text/html": [
       "<table><tr><td style=\"background-color:lightgreen; font-size:150%; width:30px; height:30px; text-align:center; padding:0px; border: 2px solid black;\"><td style=\"background-color:lightgreen; font-size:150%; width:30px; height:30px; text-align:center; padding:0px; border: 2px solid black;\"><td style=\"background-color:lightgreen; font-size:150%; width:30px; height:30px; text-align:center; padding:0px; border: 2px solid black;\"><td style=\"background-color:lightgreen; font-size:150%; width:30px; height:30px; text-align:center; padding:0px; border: 2px solid black;\"><td style=\"background-color:lightgreen; font-size:150%; width:30px; height:30px; text-align:center; padding:0px; border: 2px solid black;\"><td style=\"background-color:lightgreen; font-size:150%; width:30px; height:30px; text-align:center; padding:0px; border: 2px solid black;\"><td style=\"background-color:lightgreen; font-size:150%; width:30px; height:30px; text-align:center; padding:0px; border: 2px solid black;\"><td style=\"background-color:lightgreen; font-size:150%; width:30px; height:30px; text-align:center; padding:0px; border: 2px solid black;\"><td style=\"background-color:lightgreen; font-size:150%; width:30px; height:30px; text-align:center; padding:0px; border: 2px solid black;\"><td style=\"background-color:blue; font-size:150%; width:30px; height:30px; text-align:center; padding:0px; border: 2px solid black;\"><td style=\"background-color:blue; font-size:150%; width:30px; height:30px; text-align:center; padding:0px; border: 2px solid black;\"><td style=\"background-color:blue; font-size:150%; width:30px; height:30px; text-align:center; padding:0px; border: 2px solid black;\"><td style=\"background-color:lightgreen; font-size:150%; width:30px; height:30px; text-align:center; padding:0px; border: 2px solid black;\"><td style=\"background-color:lightgreen; font-size:150%; width:30px; height:30px; text-align:center; padding:0px; border: 2px solid black;\"><td style=\"background-color:lightgreen; font-size:150%; width:30px; height:30px; text-align:center; padding:0px; border: 2px solid black;\"><td style=\"background-color:lightgreen; font-size:150%; width:30px; height:30px; text-align:center; padding:0px; border: 2px solid black;\"><td style=\"background-color:lightgreen; font-size:150%; width:30px; height:30px; text-align:center; padding:0px; border: 2px solid black;\"><td style=\"background-color:grey; font-size:150%; width:30px; height:30px; text-align:center; padding:0px; border: 2px solid black;\"><td style=\"background-color:grey; font-size:150%; width:30px; height:30px; text-align:center; padding:0px; border: 2px solid black;\"><td style=\"background-color:grey; font-size:150%; width:30px; height:30px; text-align:center; padding:0px; border: 2px solid black;\"><td style=\"background-color:grey; font-size:150%; width:30px; height:30px; text-align:center; padding:0px; border: 2px solid black;\"><td style=\"background-color:grey; font-size:150%; width:30px; height:30px; text-align:center; padding:0px; border: 2px solid black;\"><td style=\"background-color:grey; font-size:150%; width:30px; height:30px; text-align:center; padding:0px; border: 2px solid black;\"><td style=\"background-color:grey; font-size:150%; width:30px; height:30px; text-align:center; padding:0px; border: 2px solid black;\"><td style=\"background-color:grey; font-size:150%; width:30px; height:30px; text-align:center; padding:0px; border: 2px solid black;\"><td style=\"background-color:grey; font-size:150%; width:30px; height:30px; text-align:center; padding:0px; border: 2px solid black;\"><td style=\"background-color:grey; font-size:150%; width:30px; height:30px; text-align:center; padding:0px; border: 2px solid black;\"><td style=\"background-color:green; font-size:150%; width:30px; height:30px; text-align:center; padding:0px; border: 2px solid black;\">B<td style=\"background-color:brown; font-size:150%; width:30px; height:30px; text-align:center; padding:0px; border: 2px solid black;\"><td style=\"background-color:brown; font-size:150%; width:30px; height:30px; text-align:center; padding:0px; border: 2px solid black;\"><td style=\"background-color:brown; font-size:150%; width:30px; height:30px; text-align:center; padding:0px; border: 2px solid black;\"><td style=\"background-color:brown; font-size:150%; width:30px; height:30px; text-align:center; padding:0px; border: 2px solid black;\"><td style=\"background-color:brown; font-size:150%; width:30px; height:30px; text-align:center; padding:0px; border: 2px solid black;\"><td style=\"background-color:brown; font-size:150%; width:30px; height:30px; text-align:center; padding:0px; border: 2px solid black;\"><td style=\"background-color:brown; font-size:150%; width:30px; height:30px; text-align:center; padding:0px; border: 2px solid black;\"><td style=\"background-color:grey; font-size:150%; width:30px; height:30px; text-align:center; padding:0px; border: 2px solid black;\"><td style=\"background-color:grey; font-size:150%; width:30px; height:30px; text-align:center; padding:0px; border: 2px solid black;\"><td style=\"background-color:grey; font-size:150%; width:30px; height:30px; text-align:center; padding:0px; border: 2px solid black;\"><td style=\"background-color:grey; font-size:150%; width:30px; height:30px; text-align:center; padding:0px; border: 2px solid black;\"><td style=\"background-color:grey; font-size:150%; width:30px; height:30px; text-align:center; padding:0px; border: 2px solid black;\"><tr><td style=\"background-color:lightgreen; font-size:150%; width:30px; height:30px; text-align:center; padding:0px; border: 2px solid black;\"><td style=\"background-color:lightgreen; font-size:150%; width:30px; height:30px; text-align:center; padding:0px; border: 2px solid black;\"><td style=\"background-color:lightgreen; font-size:150%; width:30px; height:30px; text-align:center; padding:0px; border: 2px solid black;\"><td style=\"background-color:lightgreen; font-size:150%; width:30px; height:30px; text-align:center; padding:0px; border: 2px solid black;\"><td style=\"background-color:lightgreen; font-size:150%; width:30px; height:30px; text-align:center; padding:0px; border: 2px solid black;\"><td style=\"background-color:lightgreen; font-size:150%; width:30px; height:30px; text-align:center; padding:0px; border: 2px solid black;\"><td style=\"background-color:lightgreen; font-size:150%; width:30px; height:30px; text-align:center; padding:0px; border: 2px solid black;\"><td style=\"background-color:lightgreen; font-size:150%; width:30px; height:30px; text-align:center; padding:0px; border: 2px solid black;\"><td style=\"background-color:lightgreen; font-size:150%; width:30px; height:30px; text-align:center; padding:0px; border: 2px solid black;\"><td style=\"background-color:blue; font-size:150%; width:30px; height:30px; text-align:center; padding:0px; border: 2px solid black;\"><td style=\"background-color:blue; font-size:150%; width:30px; height:30px; text-align:center; padding:0px; border: 2px solid black;\"><td style=\"background-color:blue; font-size:150%; width:30px; height:30px; text-align:center; padding:0px; border: 2px solid black;\"><td style=\"background-color:blue; font-size:150%; width:30px; height:30px; text-align:center; padding:0px; border: 2px solid black;\"><td style=\"background-color:lightgreen; font-size:150%; width:30px; height:30px; text-align:center; padding:0px; border: 2px solid black;\"><td style=\"background-color:lightgreen; font-size:150%; width:30px; height:30px; text-align:center; padding:0px; border: 2px solid black;\"><td style=\"background-color:lightgreen; font-size:150%; width:30px; height:30px; text-align:center; padding:0px; border: 2px solid black;\"><td style=\"background-color:lightgreen; font-size:150%; width:30px; height:30px; text-align:center; padding:0px; border: 2px solid black;\"><td style=\"background-color:grey; font-size:150%; width:30px; height:30px; text-align:center; padding:0px; border: 2px solid black;\"><td style=\"background-color:grey; font-size:150%; width:30px; height:30px; text-align:center; padding:0px; border: 2px solid black;\"><td style=\"background-color:grey; font-size:150%; width:30px; height:30px; text-align:center; padding:0px; border: 2px solid black;\"><td style=\"background-color:grey; font-size:150%; width:30px; height:30px; text-align:center; padding:0px; border: 2px solid black;\"><td style=\"background-color:grey; font-size:150%; width:30px; height:30px; text-align:center; padding:0px; border: 2px solid black;\"><td style=\"background-color:grey; font-size:150%; width:30px; height:30px; text-align:center; padding:0px; border: 2px solid black;\"><td style=\"background-color:grey; font-size:150%; width:30px; height:30px; text-align:center; padding:0px; border: 2px solid black;\"><td style=\"background-color:grey; font-size:150%; width:30px; height:30px; text-align:center; padding:0px; border: 2px solid black;\"><td style=\"background-color:grey; font-size:150%; width:30px; height:30px; text-align:center; padding:0px; border: 2px solid black;\"><td style=\"background-color:grey; font-size:150%; width:30px; height:30px; text-align:center; padding:0px; border: 2px solid black;\"><td style=\"background-color:grey; font-size:150%; width:30px; height:30px; text-align:center; padding:0px; border: 2px solid black;\"><td style=\"background-color:grey; font-size:150%; width:30px; height:30px; text-align:center; padding:0px; border: 2px solid black;\"><td style=\"background-color:grey; font-size:150%; width:30px; height:30px; text-align:center; padding:0px; border: 2px solid black;\"><td style=\"background-color:grey; font-size:150%; width:30px; height:30px; text-align:center; padding:0px; border: 2px solid black;\"><td style=\"background-color:grey; font-size:150%; width:30px; height:30px; text-align:center; padding:0px; border: 2px solid black;\"><td style=\"background-color:grey; font-size:150%; width:30px; height:30px; text-align:center; padding:0px; border: 2px solid black;\"><td style=\"background-color:grey; font-size:150%; width:30px; height:30px; text-align:center; padding:0px; border: 2px solid black;\"><td style=\"background-color:brown; font-size:150%; width:30px; height:30px; text-align:center; padding:0px; border: 2px solid black;\"><td style=\"background-color:grey; font-size:150%; width:30px; height:30px; text-align:center; padding:0px; border: 2px solid black;\"><td style=\"background-color:lightgreen; font-size:150%; width:30px; height:30px; text-align:center; padding:0px; border: 2px solid black;\"><td style=\"background-color:lightgreen; font-size:150%; width:30px; height:30px; text-align:center; padding:0px; border: 2px solid black;\"><td style=\"background-color:lightgreen; font-size:150%; width:30px; height:30px; text-align:center; padding:0px; border: 2px solid black;\"><td style=\"background-color:lightgreen; font-size:150%; width:30px; height:30px; text-align:center; padding:0px; border: 2px solid black;\"><tr><td style=\"background-color:lightgreen; font-size:150%; width:30px; height:30px; text-align:center; padding:0px; border: 2px solid black;\"><td style=\"background-color:lightgreen; font-size:150%; width:30px; height:30px; text-align:center; padding:0px; border: 2px solid black;\"><td style=\"background-color:lightgreen; font-size:150%; width:30px; height:30px; text-align:center; padding:0px; border: 2px solid black;\"><td style=\"background-color:lightgreen; font-size:150%; width:30px; height:30px; text-align:center; padding:0px; border: 2px solid black;\"><td style=\"background-color:lightgreen; font-size:150%; width:30px; height:30px; text-align:center; padding:0px; border: 2px solid black;\"><td style=\"background-color:lightgreen; font-size:150%; width:30px; height:30px; text-align:center; padding:0px; border: 2px solid black;\"><td style=\"background-color:lightgreen; font-size:150%; width:30px; height:30px; text-align:center; padding:0px; border: 2px solid black;\"><td style=\"background-color:lightgreen; font-size:150%; width:30px; height:30px; text-align:center; padding:0px; border: 2px solid black;\"><td style=\"background-color:lightgreen; font-size:150%; width:30px; height:30px; text-align:center; padding:0px; border: 2px solid black;\"><td style=\"background-color:lightgreen; font-size:150%; width:30px; height:30px; text-align:center; padding:0px; border: 2px solid black;\"><td style=\"background-color:blue; font-size:150%; width:30px; height:30px; text-align:center; padding:0px; border: 2px solid black;\"><td style=\"background-color:blue; font-size:150%; width:30px; height:30px; text-align:center; padding:0px; border: 2px solid black;\"><td style=\"background-color:blue; font-size:150%; width:30px; height:30px; text-align:center; padding:0px; border: 2px solid black;\"><td style=\"background-color:blue; font-size:150%; width:30px; height:30px; text-align:center; padding:0px; border: 2px solid black;\"><td style=\"background-color:lightgreen; font-size:150%; width:30px; height:30px; text-align:center; padding:0px; border: 2px solid black;\"><td style=\"background-color:lightgreen; font-size:150%; width:30px; height:30px; text-align:center; padding:0px; border: 2px solid black;\"><td style=\"background-color:lightgreen; font-size:150%; width:30px; height:30px; text-align:center; padding:0px; border: 2px solid black;\"><td style=\"background-color:lightgreen; font-size:150%; width:30px; height:30px; text-align:center; padding:0px; border: 2px solid black;\"><td style=\"background-color:grey; font-size:150%; width:30px; height:30px; text-align:center; padding:0px; border: 2px solid black;\"><td style=\"background-color:grey; font-size:150%; width:30px; height:30px; text-align:center; padding:0px; border: 2px solid black;\"><td style=\"background-color:grey; font-size:150%; width:30px; height:30px; text-align:center; padding:0px; border: 2px solid black;\"><td style=\"background-color:grey; font-size:150%; width:30px; height:30px; text-align:center; padding:0px; border: 2px solid black;\"><td style=\"background-color:grey; font-size:150%; width:30px; height:30px; text-align:center; padding:0px; border: 2px solid black;\"><td style=\"background-color:grey; font-size:150%; width:30px; height:30px; text-align:center; padding:0px; border: 2px solid black;\"><td style=\"background-color:grey; font-size:150%; width:30px; height:30px; text-align:center; padding:0px; border: 2px solid black;\"><td style=\"background-color:grey; font-size:150%; width:30px; height:30px; text-align:center; padding:0px; border: 2px solid black;\"><td style=\"background-color:grey; font-size:150%; width:30px; height:30px; text-align:center; padding:0px; border: 2px solid black;\"><td style=\"background-color:grey; font-size:150%; width:30px; height:30px; text-align:center; padding:0px; border: 2px solid black;\"><td style=\"background-color:grey; font-size:150%; width:30px; height:30px; text-align:center; padding:0px; border: 2px solid black;\"><td style=\"background-color:grey; font-size:150%; width:30px; height:30px; text-align:center; padding:0px; border: 2px solid black;\"><td style=\"background-color:grey; font-size:150%; width:30px; height:30px; text-align:center; padding:0px; border: 2px solid black;\"><td style=\"background-color:grey; font-size:150%; width:30px; height:30px; text-align:center; padding:0px; border: 2px solid black;\"><td style=\"background-color:lightgreen; font-size:150%; width:30px; height:30px; text-align:center; padding:0px; border: 2px solid black;\"><td style=\"background-color:lightgreen; font-size:150%; width:30px; height:30px; text-align:center; padding:0px; border: 2px solid black;\"><td style=\"background-color:brown; font-size:150%; width:30px; height:30px; text-align:center; padding:0px; border: 2px solid black;\"><td style=\"background-color:lightgreen; font-size:150%; width:30px; height:30px; text-align:center; padding:0px; border: 2px solid black;\"><td style=\"background-color:lightgreen; font-size:150%; width:30px; height:30px; text-align:center; padding:0px; border: 2px solid black;\"><td style=\"background-color:lightgreen; font-size:150%; width:30px; height:30px; text-align:center; padding:0px; border: 2px solid black;\"><td style=\"background-color:lightgreen; font-size:150%; width:30px; height:30px; text-align:center; padding:0px; border: 2px solid black;\"><td style=\"background-color:lightgreen; font-size:150%; width:30px; height:30px; text-align:center; padding:0px; border: 2px solid black;\"><tr><td style=\"background-color:darkgreen; font-size:150%; width:30px; height:30px; text-align:center; padding:0px; border: 2px solid black;\"><td style=\"background-color:darkgreen; font-size:150%; width:30px; height:30px; text-align:center; padding:0px; border: 2px solid black;\"><td style=\"background-color:lightgreen; font-size:150%; width:30px; height:30px; text-align:center; padding:0px; border: 2px solid black;\"><td style=\"background-color:lightgreen; font-size:150%; width:30px; height:30px; text-align:center; padding:0px; border: 2px solid black;\"><td style=\"background-color:lightgreen; font-size:150%; width:30px; height:30px; text-align:center; padding:0px; border: 2px solid black;\"><td style=\"background-color:lightgreen; font-size:150%; width:30px; height:30px; text-align:center; padding:0px; border: 2px solid black;\"><td style=\"background-color:lightgreen; font-size:150%; width:30px; height:30px; text-align:center; padding:0px; border: 2px solid black;\"><td style=\"background-color:lightgreen; font-size:150%; width:30px; height:30px; text-align:center; padding:0px; border: 2px solid black;\"><td style=\"background-color:lightgreen; font-size:150%; width:30px; height:30px; text-align:center; padding:0px; border: 2px solid black;\"><td style=\"background-color:lightgreen; font-size:150%; width:30px; height:30px; text-align:center; padding:0px; border: 2px solid black;\"><td style=\"background-color:lightgreen; font-size:150%; width:30px; height:30px; text-align:center; padding:0px; border: 2px solid black;\"><td style=\"background-color:blue; font-size:150%; width:30px; height:30px; text-align:center; padding:0px; border: 2px solid black;\"><td style=\"background-color:blue; font-size:150%; width:30px; height:30px; text-align:center; padding:0px; border: 2px solid black;\"><td style=\"background-color:blue; font-size:150%; width:30px; height:30px; text-align:center; padding:0px; border: 2px solid black;\"><td style=\"background-color:blue; font-size:150%; width:30px; height:30px; text-align:center; padding:0px; border: 2px solid black;\"><td style=\"background-color:lightgreen; font-size:150%; width:30px; height:30px; text-align:center; padding:0px; border: 2px solid black;\"><td style=\"background-color:lightgreen; font-size:150%; width:30px; height:30px; text-align:center; padding:0px; border: 2px solid black;\"><td style=\"background-color:lightgreen; font-size:150%; width:30px; height:30px; text-align:center; padding:0px; border: 2px solid black;\"><td style=\"background-color:lightgreen; font-size:150%; width:30px; height:30px; text-align:center; padding:0px; border: 2px solid black;\"><td style=\"background-color:grey; font-size:150%; width:30px; height:30px; text-align:center; padding:0px; border: 2px solid black;\"><td style=\"background-color:grey; font-size:150%; width:30px; height:30px; text-align:center; padding:0px; border: 2px solid black;\"><td style=\"background-color:grey; font-size:150%; width:30px; height:30px; text-align:center; padding:0px; border: 2px solid black;\"><td style=\"background-color:grey; font-size:150%; width:30px; height:30px; text-align:center; padding:0px; border: 2px solid black;\"><td style=\"background-color:grey; font-size:150%; width:30px; height:30px; text-align:center; padding:0px; border: 2px solid black;\"><td style=\"background-color:grey; font-size:150%; width:30px; height:30px; text-align:center; padding:0px; border: 2px solid black;\"><td style=\"background-color:grey; font-size:150%; width:30px; height:30px; text-align:center; padding:0px; border: 2px solid black;\"><td style=\"background-color:grey; font-size:150%; width:30px; height:30px; text-align:center; padding:0px; border: 2px solid black;\"><td style=\"background-color:grey; font-size:150%; width:30px; height:30px; text-align:center; padding:0px; border: 2px solid black;\"><td style=\"background-color:lightgreen; font-size:150%; width:30px; height:30px; text-align:center; padding:0px; border: 2px solid black;\"><td style=\"background-color:lightgreen; font-size:150%; width:30px; height:30px; text-align:center; padding:0px; border: 2px solid black;\"><td style=\"background-color:lightgreen; font-size:150%; width:30px; height:30px; text-align:center; padding:0px; border: 2px solid black;\"><td style=\"background-color:lightgreen; font-size:150%; width:30px; height:30px; text-align:center; padding:0px; border: 2px solid black;\"><td style=\"background-color:lightgreen; font-size:150%; width:30px; height:30px; text-align:center; padding:0px; border: 2px solid black;\"><td style=\"background-color:lightgreen; font-size:150%; width:30px; height:30px; text-align:center; padding:0px; border: 2px solid black;\"><td style=\"background-color:brown; font-size:150%; width:30px; height:30px; text-align:center; padding:0px; border: 2px solid black;\"><td style=\"background-color:brown; font-size:150%; width:30px; height:30px; text-align:center; padding:0px; border: 2px solid black;\"><td style=\"background-color:lightgreen; font-size:150%; width:30px; height:30px; text-align:center; padding:0px; border: 2px solid black;\"><td style=\"background-color:lightgreen; font-size:150%; width:30px; height:30px; text-align:center; padding:0px; border: 2px solid black;\"><td style=\"background-color:lightgreen; font-size:150%; width:30px; height:30px; text-align:center; padding:0px; border: 2px solid black;\"><td style=\"background-color:lightgreen; font-size:150%; width:30px; height:30px; text-align:center; padding:0px; border: 2px solid black;\"><tr><td style=\"background-color:darkgreen; font-size:150%; width:30px; height:30px; text-align:center; padding:0px; border: 2px solid black;\"><td style=\"background-color:darkgreen; font-size:150%; width:30px; height:30px; text-align:center; padding:0px; border: 2px solid black;\"><td style=\"background-color:lightgreen; font-size:150%; width:30px; height:30px; text-align:center; padding:0px; border: 2px solid black;\"><td style=\"background-color:lightgreen; font-size:150%; width:30px; height:30px; text-align:center; padding:0px; border: 2px solid black;\"><td style=\"background-color:lightgreen; font-size:150%; width:30px; height:30px; text-align:center; padding:0px; border: 2px solid black;\"><td style=\"background-color:lightgreen; font-size:150%; width:30px; height:30px; text-align:center; padding:0px; border: 2px solid black;\"><td style=\"background-color:lightgreen; font-size:150%; width:30px; height:30px; text-align:center; padding:0px; border: 2px solid black;\"><td style=\"background-color:lightgreen; font-size:150%; width:30px; height:30px; text-align:center; padding:0px; border: 2px solid black;\"><td style=\"background-color:lightgreen; font-size:150%; width:30px; height:30px; text-align:center; padding:0px; border: 2px solid black;\"><td style=\"background-color:lightgreen; font-size:150%; width:30px; height:30px; text-align:center; padding:0px; border: 2px solid black;\"><td style=\"background-color:lightgreen; font-size:150%; width:30px; height:30px; text-align:center; padding:0px; border: 2px solid black;\"><td style=\"background-color:lightgreen; font-size:150%; width:30px; height:30px; text-align:center; padding:0px; border: 2px solid black;\"><td style=\"background-color:blue; font-size:150%; width:30px; height:30px; text-align:center; padding:0px; border: 2px solid black;\"><td style=\"background-color:blue; font-size:150%; width:30px; height:30px; text-align:center; padding:0px; border: 2px solid black;\"><td style=\"background-color:blue; font-size:150%; width:30px; height:30px; text-align:center; padding:0px; border: 2px solid black;\"><td style=\"background-color:blue; font-size:150%; width:30px; height:30px; text-align:center; padding:0px; border: 2px solid black;\"><td style=\"background-color:blue; font-size:150%; width:30px; height:30px; text-align:center; padding:0px; border: 2px solid black;\"><td style=\"background-color:blue; font-size:150%; width:30px; height:30px; text-align:center; padding:0px; border: 2px solid black;\"><td style=\"background-color:blue; font-size:150%; width:30px; height:30px; text-align:center; padding:0px; border: 2px solid black;\"><td style=\"background-color:blue; font-size:150%; width:30px; height:30px; text-align:center; padding:0px; border: 2px solid black;\"><td style=\"background-color:blue; font-size:150%; width:30px; height:30px; text-align:center; padding:0px; border: 2px solid black;\"><td style=\"background-color:blue; font-size:150%; width:30px; height:30px; text-align:center; padding:0px; border: 2px solid black;\"><td style=\"background-color:blue; font-size:150%; width:30px; height:30px; text-align:center; padding:0px; border: 2px solid black;\"><td style=\"background-color:blue; font-size:150%; width:30px; height:30px; text-align:center; padding:0px; border: 2px solid black;\"><td style=\"background-color:blue; font-size:150%; width:30px; height:30px; text-align:center; padding:0px; border: 2px solid black;\"><td style=\"background-color:lightgreen; font-size:150%; width:30px; height:30px; text-align:center; padding:0px; border: 2px solid black;\"><td style=\"background-color:lightgreen; font-size:150%; width:30px; height:30px; text-align:center; padding:0px; border: 2px solid black;\"><td style=\"background-color:lightgreen; font-size:150%; width:30px; height:30px; text-align:center; padding:0px; border: 2px solid black;\"><td style=\"background-color:lightgreen; font-size:150%; width:30px; height:30px; text-align:center; padding:0px; border: 2px solid black;\"><td style=\"background-color:lightgreen; font-size:150%; width:30px; height:30px; text-align:center; padding:0px; border: 2px solid black;\"><td style=\"background-color:lightgreen; font-size:150%; width:30px; height:30px; text-align:center; padding:0px; border: 2px solid black;\"><td style=\"background-color:lightgreen; font-size:150%; width:30px; height:30px; text-align:center; padding:0px; border: 2px solid black;\"><td style=\"background-color:lightgreen; font-size:150%; width:30px; height:30px; text-align:center; padding:0px; border: 2px solid black;\"><td style=\"background-color:lightgreen; font-size:150%; width:30px; height:30px; text-align:center; padding:0px; border: 2px solid black;\"><td style=\"background-color:lightgreen; font-size:150%; width:30px; height:30px; text-align:center; padding:0px; border: 2px solid black;\"><td style=\"background-color:brown; font-size:150%; width:30px; height:30px; text-align:center; padding:0px; border: 2px solid black;\"><td style=\"background-color:brown; font-size:150%; width:30px; height:30px; text-align:center; padding:0px; border: 2px solid black;\"><td style=\"background-color:brown; font-size:150%; width:30px; height:30px; text-align:center; padding:0px; border: 2px solid black;\"><td style=\"background-color:brown; font-size:150%; width:30px; height:30px; text-align:center; padding:0px; border: 2px solid black;\"><td style=\"background-color:brown; font-size:150%; width:30px; height:30px; text-align:center; padding:0px; border: 2px solid black;\"><tr><td style=\"background-color:darkgreen; font-size:150%; width:30px; height:30px; text-align:center; padding:0px; border: 2px solid black;\"><td style=\"background-color:darkgreen; font-size:150%; width:30px; height:30px; text-align:center; padding:0px; border: 2px solid black;\"><td style=\"background-color:darkgreen; font-size:150%; width:30px; height:30px; text-align:center; padding:0px; border: 2px solid black;\"><td style=\"background-color:darkgreen; font-size:150%; width:30px; height:30px; text-align:center; padding:0px; border: 2px solid black;\"><td style=\"background-color:lightgreen; font-size:150%; width:30px; height:30px; text-align:center; padding:0px; border: 2px solid black;\"><td style=\"background-color:lightgreen; font-size:150%; width:30px; height:30px; text-align:center; padding:0px; border: 2px solid black;\"><td style=\"background-color:lightgreen; font-size:150%; width:30px; height:30px; text-align:center; padding:0px; border: 2px solid black;\"><td style=\"background-color:lightgreen; font-size:150%; width:30px; height:30px; text-align:center; padding:0px; border: 2px solid black;\"><td style=\"background-color:lightgreen; font-size:150%; width:30px; height:30px; text-align:center; padding:0px; border: 2px solid black;\"><td style=\"background-color:lightgreen; font-size:150%; width:30px; height:30px; text-align:center; padding:0px; border: 2px solid black;\"><td style=\"background-color:lightgreen; font-size:150%; width:30px; height:30px; text-align:center; padding:0px; border: 2px solid black;\"><td style=\"background-color:lightgreen; font-size:150%; width:30px; height:30px; text-align:center; padding:0px; border: 2px solid black;\"><td style=\"background-color:lightgreen; font-size:150%; width:30px; height:30px; text-align:center; padding:0px; border: 2px solid black;\"><td style=\"background-color:lightgreen; font-size:150%; width:30px; height:30px; text-align:center; padding:0px; border: 2px solid black;\"><td style=\"background-color:blue; font-size:150%; width:30px; height:30px; text-align:center; padding:0px; border: 2px solid black;\"><td style=\"background-color:blue; font-size:150%; width:30px; height:30px; text-align:center; padding:0px; border: 2px solid black;\"><td style=\"background-color:blue; font-size:150%; width:30px; height:30px; text-align:center; padding:0px; border: 2px solid black;\"><td style=\"background-color:blue; font-size:150%; width:30px; height:30px; text-align:center; padding:0px; border: 2px solid black;\"><td style=\"background-color:blue; font-size:150%; width:30px; height:30px; text-align:center; padding:0px; border: 2px solid black;\"><td style=\"background-color:blue; font-size:150%; width:30px; height:30px; text-align:center; padding:0px; border: 2px solid black;\"><td style=\"background-color:blue; font-size:150%; width:30px; height:30px; text-align:center; padding:0px; border: 2px solid black;\"><td style=\"background-color:blue; font-size:150%; width:30px; height:30px; text-align:center; padding:0px; border: 2px solid black;\"><td style=\"background-color:blue; font-size:150%; width:30px; height:30px; text-align:center; padding:0px; border: 2px solid black;\"><td style=\"background-color:blue; font-size:150%; width:30px; height:30px; text-align:center; padding:0px; border: 2px solid black;\"><td style=\"background-color:blue; font-size:150%; width:30px; height:30px; text-align:center; padding:0px; border: 2px solid black;\"><td style=\"background-color:blue; font-size:150%; width:30px; height:30px; text-align:center; padding:0px; border: 2px solid black;\"><td style=\"background-color:blue; font-size:150%; width:30px; height:30px; text-align:center; padding:0px; border: 2px solid black;\"><td style=\"background-color:lightgreen; font-size:150%; width:30px; height:30px; text-align:center; padding:0px; border: 2px solid black;\"><td style=\"background-color:lightgreen; font-size:150%; width:30px; height:30px; text-align:center; padding:0px; border: 2px solid black;\"><td style=\"background-color:lightgreen; font-size:150%; width:30px; height:30px; text-align:center; padding:0px; border: 2px solid black;\"><td style=\"background-color:lightgreen; font-size:150%; width:30px; height:30px; text-align:center; padding:0px; border: 2px solid black;\"><td style=\"background-color:lightgreen; font-size:150%; width:30px; height:30px; text-align:center; padding:0px; border: 2px solid black;\"><td style=\"background-color:lightgreen; font-size:150%; width:30px; height:30px; text-align:center; padding:0px; border: 2px solid black;\"><td style=\"background-color:lightgreen; font-size:150%; width:30px; height:30px; text-align:center; padding:0px; border: 2px solid black;\"><td style=\"background-color:lightgreen; font-size:150%; width:30px; height:30px; text-align:center; padding:0px; border: 2px solid black;\"><td style=\"background-color:lightgreen; font-size:150%; width:30px; height:30px; text-align:center; padding:0px; border: 2px solid black;\"><td style=\"background-color:lightgreen; font-size:150%; width:30px; height:30px; text-align:center; padding:0px; border: 2px solid black;\"><td style=\"background-color:lightgreen; font-size:150%; width:30px; height:30px; text-align:center; padding:0px; border: 2px solid black;\"><td style=\"background-color:lightgreen; font-size:150%; width:30px; height:30px; text-align:center; padding:0px; border: 2px solid black;\"><td style=\"background-color:lightgreen; font-size:150%; width:30px; height:30px; text-align:center; padding:0px; border: 2px solid black;\"><tr><td style=\"background-color:darkgreen; font-size:150%; width:30px; height:30px; text-align:center; padding:0px; border: 2px solid black;\"><td style=\"background-color:darkgreen; font-size:150%; width:30px; height:30px; text-align:center; padding:0px; border: 2px solid black;\"><td style=\"background-color:darkgreen; font-size:150%; width:30px; height:30px; text-align:center; padding:0px; border: 2px solid black;\"><td style=\"background-color:darkgreen; font-size:150%; width:30px; height:30px; text-align:center; padding:0px; border: 2px solid black;\"><td style=\"background-color:darkgreen; font-size:150%; width:30px; height:30px; text-align:center; padding:0px; border: 2px solid black;\"><td style=\"background-color:darkgreen; font-size:150%; width:30px; height:30px; text-align:center; padding:0px; border: 2px solid black;\"><td style=\"background-color:lightgreen; font-size:150%; width:30px; height:30px; text-align:center; padding:0px; border: 2px solid black;\"><td style=\"background-color:lightgreen; font-size:150%; width:30px; height:30px; text-align:center; padding:0px; border: 2px solid black;\"><td style=\"background-color:lightgreen; font-size:150%; width:30px; height:30px; text-align:center; padding:0px; border: 2px solid black;\"><td style=\"background-color:lightgreen; font-size:150%; width:30px; height:30px; text-align:center; padding:0px; border: 2px solid black;\"><td style=\"background-color:lightgreen; font-size:150%; width:30px; height:30px; text-align:center; padding:0px; border: 2px solid black;\"><td style=\"background-color:lightgreen; font-size:150%; width:30px; height:30px; text-align:center; padding:0px; border: 2px solid black;\"><td style=\"background-color:lightgreen; font-size:150%; width:30px; height:30px; text-align:center; padding:0px; border: 2px solid black;\"><td style=\"background-color:lightgreen; font-size:150%; width:30px; height:30px; text-align:center; padding:0px; border: 2px solid black;\"><td style=\"background-color:lightgreen; font-size:150%; width:30px; height:30px; text-align:center; padding:0px; border: 2px solid black;\"><td style=\"background-color:lightgreen; font-size:150%; width:30px; height:30px; text-align:center; padding:0px; border: 2px solid black;\"><td style=\"background-color:lightgreen; font-size:150%; width:30px; height:30px; text-align:center; padding:0px; border: 2px solid black;\"><td style=\"background-color:lightgreen; font-size:150%; width:30px; height:30px; text-align:center; padding:0px; border: 2px solid black;\"><td style=\"background-color:lightgreen; font-size:150%; width:30px; height:30px; text-align:center; padding:0px; border: 2px solid black;\"><td style=\"background-color:lightgreen; font-size:150%; width:30px; height:30px; text-align:center; padding:0px; border: 2px solid black;\"><td style=\"background-color:lightgreen; font-size:150%; width:30px; height:30px; text-align:center; padding:0px; border: 2px solid black;\"><td style=\"background-color:lightgreen; font-size:150%; width:30px; height:30px; text-align:center; padding:0px; border: 2px solid black;\"><td style=\"background-color:lightgreen; font-size:150%; width:30px; height:30px; text-align:center; padding:0px; border: 2px solid black;\"><td style=\"background-color:blue; font-size:150%; width:30px; height:30px; text-align:center; padding:0px; border: 2px solid black;\"><td style=\"background-color:blue; font-size:150%; width:30px; height:30px; text-align:center; padding:0px; border: 2px solid black;\"><td style=\"background-color:blue; font-size:150%; width:30px; height:30px; text-align:center; padding:0px; border: 2px solid black;\"><td style=\"background-color:blue; font-size:150%; width:30px; height:30px; text-align:center; padding:0px; border: 2px solid black;\"><td style=\"background-color:blue; font-size:150%; width:30px; height:30px; text-align:center; padding:0px; border: 2px solid black;\"><td style=\"background-color:blue; font-size:150%; width:30px; height:30px; text-align:center; padding:0px; border: 2px solid black;\"><td style=\"background-color:lightgreen; font-size:150%; width:30px; height:30px; text-align:center; padding:0px; border: 2px solid black;\"><td style=\"background-color:lightgreen; font-size:150%; width:30px; height:30px; text-align:center; padding:0px; border: 2px solid black;\"><td style=\"background-color:lightgreen; font-size:150%; width:30px; height:30px; text-align:center; padding:0px; border: 2px solid black;\"><td style=\"background-color:lightgreen; font-size:150%; width:30px; height:30px; text-align:center; padding:0px; border: 2px solid black;\"><td style=\"background-color:lightgreen; font-size:150%; width:30px; height:30px; text-align:center; padding:0px; border: 2px solid black;\"><td style=\"background-color:lightgreen; font-size:150%; width:30px; height:30px; text-align:center; padding:0px; border: 2px solid black;\"><td style=\"background-color:grey; font-size:150%; width:30px; height:30px; text-align:center; padding:0px; border: 2px solid black;\"><td style=\"background-color:grey; font-size:150%; width:30px; height:30px; text-align:center; padding:0px; border: 2px solid black;\"><td style=\"background-color:grey; font-size:150%; width:30px; height:30px; text-align:center; padding:0px; border: 2px solid black;\"><td style=\"background-color:grey; font-size:150%; width:30px; height:30px; text-align:center; padding:0px; border: 2px solid black;\"><td style=\"background-color:grey; font-size:150%; width:30px; height:30px; text-align:center; padding:0px; border: 2px solid black;\"><tr><td style=\"background-color:darkgreen; font-size:150%; width:30px; height:30px; text-align:center; padding:0px; border: 2px solid black;\"><td style=\"background-color:red; font-size:150%; width:30px; height:30px; text-align:center; padding:0px; border: 2px solid black;\">A<td style=\"background-color:darkgreen; font-size:150%; width:30px; height:30px; text-align:center; padding:0px; border: 2px solid black;\"><td style=\"background-color:darkgreen; font-size:150%; width:30px; height:30px; text-align:center; padding:0px; border: 2px solid black;\"><td style=\"background-color:darkgreen; font-size:150%; width:30px; height:30px; text-align:center; padding:0px; border: 2px solid black;\"><td style=\"background-color:darkgreen; font-size:150%; width:30px; height:30px; text-align:center; padding:0px; border: 2px solid black;\"><td style=\"background-color:darkgreen; font-size:150%; width:30px; height:30px; text-align:center; padding:0px; border: 2px solid black;\"><td style=\"background-color:darkgreen; font-size:150%; width:30px; height:30px; text-align:center; padding:0px; border: 2px solid black;\"><td style=\"background-color:darkgreen; font-size:150%; width:30px; height:30px; text-align:center; padding:0px; border: 2px solid black;\"><td style=\"background-color:darkgreen; font-size:150%; width:30px; height:30px; text-align:center; padding:0px; border: 2px solid black;\"><td style=\"background-color:darkgreen; font-size:150%; width:30px; height:30px; text-align:center; padding:0px; border: 2px solid black;\"><td style=\"background-color:lightgreen; font-size:150%; width:30px; height:30px; text-align:center; padding:0px; border: 2px solid black;\"><td style=\"background-color:lightgreen; font-size:150%; width:30px; height:30px; text-align:center; padding:0px; border: 2px solid black;\"><td style=\"background-color:lightgreen; font-size:150%; width:30px; height:30px; text-align:center; padding:0px; border: 2px solid black;\"><td style=\"background-color:lightgreen; font-size:150%; width:30px; height:30px; text-align:center; padding:0px; border: 2px solid black;\"><td style=\"background-color:lightgreen; font-size:150%; width:30px; height:30px; text-align:center; padding:0px; border: 2px solid black;\"><td style=\"background-color:lightgreen; font-size:150%; width:30px; height:30px; text-align:center; padding:0px; border: 2px solid black;\"><td style=\"background-color:lightgreen; font-size:150%; width:30px; height:30px; text-align:center; padding:0px; border: 2px solid black;\"><td style=\"background-color:lightgreen; font-size:150%; width:30px; height:30px; text-align:center; padding:0px; border: 2px solid black;\"><td style=\"background-color:lightgreen; font-size:150%; width:30px; height:30px; text-align:center; padding:0px; border: 2px solid black;\"><td style=\"background-color:grey; font-size:150%; width:30px; height:30px; text-align:center; padding:0px; border: 2px solid black;\"><td style=\"background-color:grey; font-size:150%; width:30px; height:30px; text-align:center; padding:0px; border: 2px solid black;\"><td style=\"background-color:grey; font-size:150%; width:30px; height:30px; text-align:center; padding:0px; border: 2px solid black;\"><td style=\"background-color:grey; font-size:150%; width:30px; height:30px; text-align:center; padding:0px; border: 2px solid black;\"><td style=\"background-color:grey; font-size:150%; width:30px; height:30px; text-align:center; padding:0px; border: 2px solid black;\"><td style=\"background-color:grey; font-size:150%; width:30px; height:30px; text-align:center; padding:0px; border: 2px solid black;\"><td style=\"background-color:blue; font-size:150%; width:30px; height:30px; text-align:center; padding:0px; border: 2px solid black;\"><td style=\"background-color:blue; font-size:150%; width:30px; height:30px; text-align:center; padding:0px; border: 2px solid black;\"><td style=\"background-color:blue; font-size:150%; width:30px; height:30px; text-align:center; padding:0px; border: 2px solid black;\"><td style=\"background-color:blue; font-size:150%; width:30px; height:30px; text-align:center; padding:0px; border: 2px solid black;\"><td style=\"background-color:grey; font-size:150%; width:30px; height:30px; text-align:center; padding:0px; border: 2px solid black;\"><td style=\"background-color:grey; font-size:150%; width:30px; height:30px; text-align:center; padding:0px; border: 2px solid black;\"><td style=\"background-color:grey; font-size:150%; width:30px; height:30px; text-align:center; padding:0px; border: 2px solid black;\"><td style=\"background-color:grey; font-size:150%; width:30px; height:30px; text-align:center; padding:0px; border: 2px solid black;\"><td style=\"background-color:grey; font-size:150%; width:30px; height:30px; text-align:center; padding:0px; border: 2px solid black;\"><td style=\"background-color:grey; font-size:150%; width:30px; height:30px; text-align:center; padding:0px; border: 2px solid black;\"><td style=\"background-color:grey; font-size:150%; width:30px; height:30px; text-align:center; padding:0px; border: 2px solid black;\"><td style=\"background-color:grey; font-size:150%; width:30px; height:30px; text-align:center; padding:0px; border: 2px solid black;\"><td style=\"background-color:grey; font-size:150%; width:30px; height:30px; text-align:center; padding:0px; border: 2px solid black;\"><td style=\"background-color:grey; font-size:150%; width:30px; height:30px; text-align:center; padding:0px; border: 2px solid black;\"><tr><td style=\"background-color:darkgreen; font-size:150%; width:30px; height:30px; text-align:center; padding:0px; border: 2px solid black;\"><td style=\"background-color:darkgreen; font-size:150%; width:30px; height:30px; text-align:center; padding:0px; border: 2px solid black;\"><td style=\"background-color:darkgreen; font-size:150%; width:30px; height:30px; text-align:center; padding:0px; border: 2px solid black;\"><td style=\"background-color:darkgreen; font-size:150%; width:30px; height:30px; text-align:center; padding:0px; border: 2px solid black;\"><td style=\"background-color:darkgreen; font-size:150%; width:30px; height:30px; text-align:center; padding:0px; border: 2px solid black;\"><td style=\"background-color:darkgreen; font-size:150%; width:30px; height:30px; text-align:center; padding:0px; border: 2px solid black;\"><td style=\"background-color:darkgreen; font-size:150%; width:30px; height:30px; text-align:center; padding:0px; border: 2px solid black;\"><td style=\"background-color:darkgreen; font-size:150%; width:30px; height:30px; text-align:center; padding:0px; border: 2px solid black;\"><td style=\"background-color:darkgreen; font-size:150%; width:30px; height:30px; text-align:center; padding:0px; border: 2px solid black;\"><td style=\"background-color:darkgreen; font-size:150%; width:30px; height:30px; text-align:center; padding:0px; border: 2px solid black;\"><td style=\"background-color:darkgreen; font-size:150%; width:30px; height:30px; text-align:center; padding:0px; border: 2px solid black;\"><td style=\"background-color:darkgreen; font-size:150%; width:30px; height:30px; text-align:center; padding:0px; border: 2px solid black;\"><td style=\"background-color:darkgreen; font-size:150%; width:30px; height:30px; text-align:center; padding:0px; border: 2px solid black;\"><td style=\"background-color:darkgreen; font-size:150%; width:30px; height:30px; text-align:center; padding:0px; border: 2px solid black;\"><td style=\"background-color:darkgreen; font-size:150%; width:30px; height:30px; text-align:center; padding:0px; border: 2px solid black;\"><td style=\"background-color:grey; font-size:150%; width:30px; height:30px; text-align:center; padding:0px; border: 2px solid black;\"><td style=\"background-color:grey; font-size:150%; width:30px; height:30px; text-align:center; padding:0px; border: 2px solid black;\"><td style=\"background-color:grey; font-size:150%; width:30px; height:30px; text-align:center; padding:0px; border: 2px solid black;\"><td style=\"background-color:grey; font-size:150%; width:30px; height:30px; text-align:center; padding:0px; border: 2px solid black;\"><td style=\"background-color:grey; font-size:150%; width:30px; height:30px; text-align:center; padding:0px; border: 2px solid black;\"><td style=\"background-color:grey; font-size:150%; width:30px; height:30px; text-align:center; padding:0px; border: 2px solid black;\"><td style=\"background-color:grey; font-size:150%; width:30px; height:30px; text-align:center; padding:0px; border: 2px solid black;\"><td style=\"background-color:grey; font-size:150%; width:30px; height:30px; text-align:center; padding:0px; border: 2px solid black;\"><td style=\"background-color:grey; font-size:150%; width:30px; height:30px; text-align:center; padding:0px; border: 2px solid black;\"><td style=\"background-color:grey; font-size:150%; width:30px; height:30px; text-align:center; padding:0px; border: 2px solid black;\"><td style=\"background-color:grey; font-size:150%; width:30px; height:30px; text-align:center; padding:0px; border: 2px solid black;\"><td style=\"background-color:grey; font-size:150%; width:30px; height:30px; text-align:center; padding:0px; border: 2px solid black;\"><td style=\"background-color:grey; font-size:150%; width:30px; height:30px; text-align:center; padding:0px; border: 2px solid black;\"><td style=\"background-color:blue; font-size:150%; width:30px; height:30px; text-align:center; padding:0px; border: 2px solid black;\"><td style=\"background-color:blue; font-size:150%; width:30px; height:30px; text-align:center; padding:0px; border: 2px solid black;\"><td style=\"background-color:blue; font-size:150%; width:30px; height:30px; text-align:center; padding:0px; border: 2px solid black;\"><td style=\"background-color:grey; font-size:150%; width:30px; height:30px; text-align:center; padding:0px; border: 2px solid black;\"><td style=\"background-color:grey; font-size:150%; width:30px; height:30px; text-align:center; padding:0px; border: 2px solid black;\"><td style=\"background-color:grey; font-size:150%; width:30px; height:30px; text-align:center; padding:0px; border: 2px solid black;\"><td style=\"background-color:grey; font-size:150%; width:30px; height:30px; text-align:center; padding:0px; border: 2px solid black;\"><td style=\"background-color:grey; font-size:150%; width:30px; height:30px; text-align:center; padding:0px; border: 2px solid black;\"><td style=\"background-color:grey; font-size:150%; width:30px; height:30px; text-align:center; padding:0px; border: 2px solid black;\"><td style=\"background-color:grey; font-size:150%; width:30px; height:30px; text-align:center; padding:0px; border: 2px solid black;\"><td style=\"background-color:grey; font-size:150%; width:30px; height:30px; text-align:center; padding:0px; border: 2px solid black;\"><td style=\"background-color:grey; font-size:150%; width:30px; height:30px; text-align:center; padding:0px; border: 2px solid black;\"><tr><td style=\"background-color:darkgreen; font-size:150%; width:30px; height:30px; text-align:center; padding:0px; border: 2px solid black;\"><td style=\"background-color:darkgreen; font-size:150%; width:30px; height:30px; text-align:center; padding:0px; border: 2px solid black;\"><td style=\"background-color:darkgreen; font-size:150%; width:30px; height:30px; text-align:center; padding:0px; border: 2px solid black;\"><td style=\"background-color:darkgreen; font-size:150%; width:30px; height:30px; text-align:center; padding:0px; border: 2px solid black;\"><td style=\"background-color:darkgreen; font-size:150%; width:30px; height:30px; text-align:center; padding:0px; border: 2px solid black;\"><td style=\"background-color:darkgreen; font-size:150%; width:30px; height:30px; text-align:center; padding:0px; border: 2px solid black;\"><td style=\"background-color:darkgreen; font-size:150%; width:30px; height:30px; text-align:center; padding:0px; border: 2px solid black;\"><td style=\"background-color:darkgreen; font-size:150%; width:30px; height:30px; text-align:center; padding:0px; border: 2px solid black;\"><td style=\"background-color:darkgreen; font-size:150%; width:30px; height:30px; text-align:center; padding:0px; border: 2px solid black;\"><td style=\"background-color:darkgreen; font-size:150%; width:30px; height:30px; text-align:center; padding:0px; border: 2px solid black;\"><td style=\"background-color:grey; font-size:150%; width:30px; height:30px; text-align:center; padding:0px; border: 2px solid black;\"><td style=\"background-color:grey; font-size:150%; width:30px; height:30px; text-align:center; padding:0px; border: 2px solid black;\"><td style=\"background-color:grey; font-size:150%; width:30px; height:30px; text-align:center; padding:0px; border: 2px solid black;\"><td style=\"background-color:grey; font-size:150%; width:30px; height:30px; text-align:center; padding:0px; border: 2px solid black;\"><td style=\"background-color:grey; font-size:150%; width:30px; height:30px; text-align:center; padding:0px; border: 2px solid black;\"><td style=\"background-color:grey; font-size:150%; width:30px; height:30px; text-align:center; padding:0px; border: 2px solid black;\"><td style=\"background-color:grey; font-size:150%; width:30px; height:30px; text-align:center; padding:0px; border: 2px solid black;\"><td style=\"background-color:grey; font-size:150%; width:30px; height:30px; text-align:center; padding:0px; border: 2px solid black;\"><td style=\"background-color:grey; font-size:150%; width:30px; height:30px; text-align:center; padding:0px; border: 2px solid black;\"><td style=\"background-color:grey; font-size:150%; width:30px; height:30px; text-align:center; padding:0px; border: 2px solid black;\"><td style=\"background-color:grey; font-size:150%; width:30px; height:30px; text-align:center; padding:0px; border: 2px solid black;\"><td style=\"background-color:grey; font-size:150%; width:30px; height:30px; text-align:center; padding:0px; border: 2px solid black;\"><td style=\"background-color:grey; font-size:150%; width:30px; height:30px; text-align:center; padding:0px; border: 2px solid black;\"><td style=\"background-color:grey; font-size:150%; width:30px; height:30px; text-align:center; padding:0px; border: 2px solid black;\"><td style=\"background-color:grey; font-size:150%; width:30px; height:30px; text-align:center; padding:0px; border: 2px solid black;\"><td style=\"background-color:grey; font-size:150%; width:30px; height:30px; text-align:center; padding:0px; border: 2px solid black;\"><td style=\"background-color:grey; font-size:150%; width:30px; height:30px; text-align:center; padding:0px; border: 2px solid black;\"><td style=\"background-color:grey; font-size:150%; width:30px; height:30px; text-align:center; padding:0px; border: 2px solid black;\"><td style=\"background-color:blue; font-size:150%; width:30px; height:30px; text-align:center; padding:0px; border: 2px solid black;\"><td style=\"background-color:blue; font-size:150%; width:30px; height:30px; text-align:center; padding:0px; border: 2px solid black;\"><td style=\"background-color:blue; font-size:150%; width:30px; height:30px; text-align:center; padding:0px; border: 2px solid black;\"><td style=\"background-color:grey; font-size:150%; width:30px; height:30px; text-align:center; padding:0px; border: 2px solid black;\"><td style=\"background-color:grey; font-size:150%; width:30px; height:30px; text-align:center; padding:0px; border: 2px solid black;\"><td style=\"background-color:grey; font-size:150%; width:30px; height:30px; text-align:center; padding:0px; border: 2px solid black;\"><td style=\"background-color:grey; font-size:150%; width:30px; height:30px; text-align:center; padding:0px; border: 2px solid black;\"><td style=\"background-color:grey; font-size:150%; width:30px; height:30px; text-align:center; padding:0px; border: 2px solid black;\"><td style=\"background-color:grey; font-size:150%; width:30px; height:30px; text-align:center; padding:0px; border: 2px solid black;\"><td style=\"background-color:grey; font-size:150%; width:30px; height:30px; text-align:center; padding:0px; border: 2px solid black;\"><td style=\"background-color:grey; font-size:150%; width:30px; height:30px; text-align:center; padding:0px; border: 2px solid black;\"><td style=\"background-color:grey; font-size:150%; width:30px; height:30px; text-align:center; padding:0px; border: 2px solid black;\"></table>"
      ],
      "text/plain": [
       "<IPython.core.display.HTML object>"
      ]
     },
     "metadata": {},
     "output_type": "display_data"
    }
   ],
   "source": [
    "b = Board(init_state)"
   ]
  },
  {
   "cell_type": "code",
   "execution_count": 10,
   "metadata": {
    "collapsed": false
   },
   "outputs": [
    {
     "name": "stdout",
     "output_type": "stream",
     "text": [
      "Successfully found solution. Path to solution consists of 49 nodes.\n",
      "Expanded a total of 320 nodes.\n"
     ]
    }
   ],
   "source": [
    "sol, openset, closedset = a_star_search(b, mode=\"dijkstra\")"
   ]
  },
  {
   "cell_type": "code",
   "execution_count": 11,
   "metadata": {
    "collapsed": true
   },
   "outputs": [],
   "source": [
    "b.add_marker([o[1] for o in openset], \"*\")"
   ]
  },
  {
   "cell_type": "code",
   "execution_count": 12,
   "metadata": {
    "collapsed": true
   },
   "outputs": [],
   "source": [
    "b.add_marker(list(closedset.keys()), \"x\")"
   ]
  },
  {
   "cell_type": "code",
   "execution_count": 288,
   "metadata": {
    "collapsed": true
   },
   "outputs": [],
   "source": [
    "b.add_marker(sol, \"+\")"
   ]
  },
  {
   "cell_type": "code",
   "execution_count": 224,
   "metadata": {
    "collapsed": false
   },
   "outputs": [
    {
     "data": {
      "text/plain": [
       "array([['g', 'g', 'g', 'g', 'g', 'g', 'g', 'g', 'g', 'w', 'w', 'w', 'g',\n",
       "        'g', 'g', 'g', 'g', 'm', 'm', 'm', 'm', 'm', 'm', 'm', '2', 'm',\n",
       "        'm', 'B', 'r', 'r', 'r', 'r', 'r', 'r', 'r', '2', 'm', 'm', 'm',\n",
       "        'm'],\n",
       "       ['g', 'g', 'g', 'g', 'g', 'g', 'g', 'g', 'g', 'w', 'w', 'w', 'w',\n",
       "        'g', 'g', 'g', 'g', 'm', 'm', 'm', 'm', 'm', 'm', 'm', 'm', '2',\n",
       "        'm', 'm', '2', '2', '2', '2', '2', '2', 'r', '2', 'g', 'g', 'g',\n",
       "        'g'],\n",
       "       ['g', 'g', 'g', 'g', 'g', 'g', 'g', 'g', 'g', 'g', 'w', 'w', 'w',\n",
       "        'w', 'g', 'g', 'g', 'g', 'm', 'm', 'm', 'm', 'm', 'm', 'm', 'm',\n",
       "        '2', 'm', '2', '2', '2', '2', 'g', '4', 'r', '4', 'g', 'g', 'g',\n",
       "        'g'],\n",
       "       ['f', 'f', 'g', 'g', 'g', 'g', 'g', 'g', 'g', 'g', 'g', 'w', 'w',\n",
       "        'w', 'w', 'g', 'g', 'g', 'g', 'm', 'm', 'm', 'm', 'm', 'm', 'm',\n",
       "        'm', '2', 'g', 'g', 'g', 'g', 'g', 'g', 'r', '5', 'g', 'g', 'g',\n",
       "        'g'],\n",
       "       ['f', 'f', 'g', 'g', 'g', 'g', 'g', 'g', 'g', 'g', 'g', 'g', 'w',\n",
       "        'w', 'w', 'w', 'w', 'w', 'w', 'w', 'w', 'w', 'w', 'w', 'w', 'g',\n",
       "        'g', 'g', 'g', 'g', 'g', 'g', 'g', 'g', '4', 'r', 'r', 'r', 'r',\n",
       "        'r'],\n",
       "       ['f', 'f', 'f', 'f', 'g', 'g', 'g', 'g', 'g', 'g', 'g', 'g', 'g',\n",
       "        'g', 'w', 'w', 'w', 'w', 'w', 'w', 'w', 'w', 'w', 'w', 'w', 'w',\n",
       "        '1', 'g', 'g', 'g', 'g', 'g', 'g', '4', 'g', 'g', 'g', 'g', 'g',\n",
       "        'g'],\n",
       "       ['f', 'f', 'f', 'f', 'f', 'f', 'g', 'g', 'g', 'g', 'g', 'g', 'g',\n",
       "        'g', 'g', 'g', 'g', 'g', 'g', 'g', 'g', 'g', 'g', 'w', 'w', 'w',\n",
       "        'w', '1', '1', 'g', 'g', 'g', '4', 'g', 'g', 'm', 'm', 'm', 'm',\n",
       "        'm'],\n",
       "       ['f', 'f', 'f', 'f', 'f', 'f', 'f', 'f', 'f', 'f', 'f', 'g', 'g',\n",
       "        'g', 'g', 'g', 'g', 'g', 'g', 'g', 'm', 'm', 'm', 'm', 'm', 'm',\n",
       "        'w', 'w', '1', '1', '2', '2', 'm', 'm', 'm', 'm', 'm', 'm', 'm',\n",
       "        'm'],\n",
       "       ['f', 'f', 'f', 'f', 'f', 'f', 'f', 'f', 'f', 'f', 'f', 'f', 'f',\n",
       "        'f', 'f', 'm', 'm', 'm', 'm', 'm', 'm', 'm', 'm', 'm', 'm', 'm',\n",
       "        'm', 'm', 'w', '1', 'w', 'm', 'm', 'm', 'm', 'm', 'm', 'm', 'm',\n",
       "        'm'],\n",
       "       ['f', 'f', 'f', 'f', 'f', 'f', 'f', 'f', 'f', 'f', 'm', 'm', 'm',\n",
       "        'm', 'm', 'm', 'm', 'm', 'm', 'm', 'm', 'm', 'm', 'm', 'm', 'm',\n",
       "        'm', 'm', '1', 'w', 'w', 'm', 'm', 'm', 'm', 'm', 'm', 'm', 'm',\n",
       "        'm']], \n",
       "      dtype='<U1')"
      ]
     },
     "execution_count": 224,
     "metadata": {},
     "output_type": "execute_result"
    }
   ],
   "source": [
    "b.squares"
   ]
  },
  {
   "cell_type": "code",
   "execution_count": 117,
   "metadata": {
    "collapsed": true
   },
   "outputs": [],
   "source": [
    "import time\n",
    "#b = Board(init_state)\n",
    "for i, s in enumerate(sol):\n",
    "    b.set_state(s, not i)\n",
    "    time.sleep(0.2)"
   ]
  },
  {
   "cell_type": "code",
   "execution_count": null,
   "metadata": {
    "collapsed": true
   },
   "outputs": [],
   "source": []
  }
 ],
 "metadata": {
  "kernelspec": {
   "display_name": "Python 3",
   "language": "python",
   "name": "python3"
  },
  "language_info": {
   "codemirror_mode": {
    "name": "ipython",
    "version": 3
   },
   "file_extension": ".py",
   "mimetype": "text/x-python",
   "name": "python",
   "nbconvert_exporter": "python",
   "pygments_lexer": "ipython3",
   "version": "3.6.0"
  }
 },
 "nbformat": 4,
 "nbformat_minor": 2
}
